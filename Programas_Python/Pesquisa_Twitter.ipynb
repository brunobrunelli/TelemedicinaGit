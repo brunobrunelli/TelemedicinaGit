{
 "cells": [
  {
   "cell_type": "markdown",
   "metadata": {},
   "source": [
    "1 - Leitura e Gravação dos dados no Banco SQL - Pesquisa Tweet:"
   ]
  },
  {
   "cell_type": "code",
   "execution_count": 255,
   "metadata": {},
   "outputs": [],
   "source": [
    "# Imports:\n",
    "from twython import Twython\n",
    "import json\n",
    "import pandas as pd\n",
    "import time\n",
    "import pyodbc "
   ]
  },
  {
   "cell_type": "code",
   "execution_count": 256,
   "metadata": {},
   "outputs": [],
   "source": [
    "# Conexão com o Banco de Dados - SQL Server:\n",
    "conn = pyodbc.connect(\n",
    "    'DRIVER={SQL Server};'\n",
    "    'SERVER=DESKTOP-2TEIT25\\SQLSERVERLOCAL;'\n",
    "    'DATABASE=DB_TELEMEDICINA;'\n",
    "    'UID=adm;'\n",
    "    'PWD=admin')\n",
    "\n",
    "# Abrir conexão com o banco: \n",
    "cursor = conn.cursor()\n",
    "\n",
    "# Realizamos um truncate na tabela para gravar os dados mais atualizados:\n",
    "sql_command = (\"TRUNCATE TABLE dbo.TB_TWEETS\")\n",
    "\n",
    "# Executa comando Truncate:\n",
    "cursor.execute(sql_command)\n",
    "\n",
    "# Criamos um comando de Insert dos dados:\n",
    "sql_command = (\"INSERT INTO dbo.TB_TWEETS ([USUARIO],[DATA],[HORARIO],[POSTAGEM]) VALUES (?,?,?,?)\")\n"
   ]
  },
  {
   "cell_type": "code",
   "execution_count": 257,
   "metadata": {},
   "outputs": [],
   "source": [
    "# Extraindo as credenciais de acesso de um arquivo .json:\n",
    "with open(\"twitter_credentials.json\", \"r\") as file:  \n",
    "    creds = json.load(file)"
   ]
  },
  {
   "cell_type": "code",
   "execution_count": 258,
   "metadata": {},
   "outputs": [],
   "source": [
    "# Instanciando um objeto twython:\n",
    "python_tweets = Twython(creds['CONSUMER_KEY'], creds['CONSUMER_SECRET'])"
   ]
  },
  {
   "cell_type": "code",
   "execution_count": 259,
   "metadata": {},
   "outputs": [],
   "source": [
    "# Criando query com os parametros a serem passados no método:\n",
    "query = {'q': 'telemedicina','count':100,'lang': 'pt'}"
   ]
  },
  {
   "cell_type": "code",
   "execution_count": 260,
   "metadata": {},
   "outputs": [],
   "source": [
    "# Dicionário para armazenar os tweets:\n",
    "dict_twitter = {'usuario': [], 'data': [], 'horario':[], 'postagem': []}"
   ]
  },
  {
   "cell_type": "code",
   "execution_count": 261,
   "metadata": {},
   "outputs": [],
   "source": [
    "lista_twitter = []"
   ]
  },
  {
   "cell_type": "code",
   "execution_count": 262,
   "metadata": {},
   "outputs": [],
   "source": [
    "# Pesquisando o termo \"telemedicina\" e retornando os 1000 tweets: \n",
    "for status in python_tweets.search(**query)['statuses']:  \n",
    "    usuario = (status['user']['screen_name'])\n",
    "    data = (time.strftime('%Y-%m-%d', time.strptime(status['created_at'],'%a %b %d %H:%M:%S +0000 %Y')))\n",
    "    horario = (time.strftime('%H:%M:%S', time.strptime(status['created_at'],'%a %b %d %H:%M:%S +0000 %Y')))\n",
    "    postagem = (status['text'])\n",
    "    \n",
    "    values = [usuario, data, horario, postagem]\n",
    "    lista_twitter.append(values)\n",
    "    \n",
    "    cursor.execute(sql_command, usuario, data, horario, postagem)"
   ]
  },
  {
   "cell_type": "raw",
   "metadata": {},
   "source": [
    "# Estruturar o dado retornado nos tweets armazenando em um Dataframe:\n",
    "df = pd.DataFrame(dict_twitter)  \n",
    "df = df.sort_values(['data','horario'], ascending=False)   "
   ]
  },
  {
   "cell_type": "code",
   "execution_count": 263,
   "metadata": {},
   "outputs": [],
   "source": [
    "# Commit dos dados incluídos no banco:\n",
    "conn.commit()"
   ]
  },
  {
   "cell_type": "markdown",
   "metadata": {},
   "source": [
    "-------"
   ]
  },
  {
   "cell_type": "markdown",
   "metadata": {},
   "source": [
    "2 - Leitura e Exibição dos dados do Banco SQL - Pesquisa Tweet:"
   ]
  },
  {
   "cell_type": "code",
   "execution_count": 264,
   "metadata": {},
   "outputs": [],
   "source": [
    "# Comando SQL para extrair os dados dos usuários com mais tweets:\n",
    "sql_command_link = \"\"\"\n",
    "    SELECT \n",
    "        COUNT(*) AS QTD_TWEET, \n",
    "        USUARIO\n",
    "    FROM [dbo].[TB_TWEETS]\n",
    "    GROUP BY USUARIO\n",
    "    ORDER BY QTD_TWEET DESC\n",
    "\"\"\""
   ]
  },
  {
   "cell_type": "code",
   "execution_count": 265,
   "metadata": {},
   "outputs": [],
   "source": [
    "# Executa comando SQL_Link:\n",
    "return_query_link = cursor.execute(sql_command_link).fetchall()"
   ]
  },
  {
   "cell_type": "code",
   "execution_count": 266,
   "metadata": {},
   "outputs": [],
   "source": [
    "# Converter lista de registros em um Dataframe:\n",
    "dfQtdeTweet = pd.DataFrame.from_records(return_query_link,columns=['Quantidade_Tweet','Usuario'])"
   ]
  },
  {
   "cell_type": "code",
   "execution_count": 267,
   "metadata": {},
   "outputs": [
    {
     "name": "stdout",
     "output_type": "stream",
     "text": [
      "    Quantidade_Tweet          Usuario\n",
      "0                  4         Hosp_ESS\n",
      "1                  2  neurocirurgiabr\n",
      "2                  2           sebrae\n",
      "3                  2    RochaRosylane\n",
      "4                  2   telessaudeuerj\n",
      "5                  2   1berto_almeida\n",
      "6                  2  vladimirpezzole\n",
      "7                  2  wagnervilasboas\n",
      "8                  2        motonauer\n",
      "9                  1      multilaudos\n",
      "10                 1      nanderson14\n",
      "11                 1           _lalas\n",
      "12                 1          WalsirT\n",
      "13                 1    web_alexandre\n",
      "14                 1    WeNeuroTweets\n",
      "15                 1   AcademiaMedica\n",
      "16                 1        alexappel\n",
      "17                 1         ALLTECH5\n",
      "18                 1         AnapsiDE\n",
      "19                 1     andre_kadosh\n"
     ]
    }
   ],
   "source": [
    "# Imprime o dataFrame referente aos dados de Domínio:\n",
    "print(dfQtdeTweet.head(20))"
   ]
  },
  {
   "cell_type": "markdown",
   "metadata": {},
   "source": [
    "-------"
   ]
  },
  {
   "cell_type": "code",
   "execution_count": 268,
   "metadata": {},
   "outputs": [],
   "source": [
    "# Comando SQL para extrair os dados dos usuários com mais tweets:\n",
    "sql_command_link = \"\"\"\n",
    "SELECT \n",
    "    COUNT(*) AS QTD_TWEET,\n",
    "    CASE DATEPART(dw,[DATA])\n",
    "        WHEN (1) THEN 'Domingo'\n",
    "        WHEN (2) THEN 'Segunda-Feira'\n",
    "        WHEN (3) THEN 'Terça-Feira'\n",
    "        WHEN (4) THEN 'Quarta-Feira'\n",
    "        WHEN (5) THEN 'Quinta-Feira'\n",
    "        WHEN (6) THEN 'Sexta-Feira'\n",
    "        WHEN (7) THEN 'Sabado'\n",
    "    END DIA_DA_SEMANA\n",
    "FROM dbo.TB_TWEETS\n",
    "GROUP BY\n",
    "    CASE DATEPART(dw,[DATA])\n",
    "        WHEN (1) THEN 'Domingo'\n",
    "        WHEN (2) THEN 'Segunda-Feira'\n",
    "        WHEN (3) THEN 'Terça-Feira'\n",
    "        WHEN (4) THEN 'Quarta-Feira'\n",
    "        WHEN (5) THEN 'Quinta-Feira'\n",
    "        WHEN (6) THEN 'Sexta-Feira'\n",
    "        WHEN (7) THEN 'Sabado'\n",
    "    END\n",
    "ORDER BY QTD_TWEET DESC\n",
    "\"\"\""
   ]
  },
  {
   "cell_type": "code",
   "execution_count": 269,
   "metadata": {},
   "outputs": [],
   "source": [
    "# Executa comando SQL_Link:\n",
    "return_query_link = cursor.execute(sql_command_link).fetchall()"
   ]
  },
  {
   "cell_type": "code",
   "execution_count": 270,
   "metadata": {},
   "outputs": [],
   "source": [
    "# Converter lista de registros em um Dataframe:\n",
    "dfDiaSemana = pd.DataFrame.from_records(return_query_link,columns=['Quantidade_Tweet','Dia_Semana'])"
   ]
  },
  {
   "cell_type": "code",
   "execution_count": 271,
   "metadata": {},
   "outputs": [
    {
     "name": "stdout",
     "output_type": "stream",
     "text": [
      "   Quantidade_Tweet     Dia_Semana\n",
      "0                23   Quinta-Feira\n",
      "1                23  Segunda-Feira\n",
      "2                16        Domingo\n",
      "3                12    Terça-Feira\n",
      "4                11    Sexta-Feira\n",
      "5                 9         Sabado\n",
      "6                 6   Quarta-Feira\n"
     ]
    }
   ],
   "source": [
    "# Imprime o dataFrame:\n",
    "print(dfDiaSemana)"
   ]
  },
  {
   "cell_type": "markdown",
   "metadata": {},
   "source": [
    "-------"
   ]
  },
  {
   "cell_type": "code",
   "execution_count": 272,
   "metadata": {},
   "outputs": [],
   "source": [
    "# Comando SQL para extrair os dados dos usuários com mais tweets:\n",
    "sql_command_link = \"\"\"\n",
    "    SELECT \n",
    "        COUNT(*) AS QTD_TWEET,\n",
    "        DATEPART(HOUR,HORARIO) AS HORA_DIA\n",
    "    FROM TB_TWEETS\n",
    "    GROUP BY DATEPART(HOUR,HORARIO)\n",
    "    ORDER BY QTD_TWEET DESC\n",
    "\"\"\""
   ]
  },
  {
   "cell_type": "code",
   "execution_count": 273,
   "metadata": {},
   "outputs": [],
   "source": [
    "# Executa comando SQL_Link:\n",
    "return_query_link = cursor.execute(sql_command_link).fetchall()"
   ]
  },
  {
   "cell_type": "code",
   "execution_count": 274,
   "metadata": {},
   "outputs": [],
   "source": [
    "# Converter lista de registros em um Dataframe:\n",
    "dfHora = pd.DataFrame.from_records(return_query_link,columns=['Quantidade_Tweet','Hora_Dia'])"
   ]
  },
  {
   "cell_type": "code",
   "execution_count": 275,
   "metadata": {},
   "outputs": [
    {
     "name": "stdout",
     "output_type": "stream",
     "text": [
      "    Quantidade_Tweet  Hora_Dia\n",
      "0                 14        20\n",
      "1                 11        19\n",
      "2                 10        23\n",
      "3                 10        10\n",
      "4                  7        14\n",
      "5                  6        15\n",
      "6                  6        21\n",
      "7                  6         0\n",
      "8                  4         1\n",
      "9                  4        16\n",
      "10                 4        17\n",
      "11                 3        22\n",
      "12                 3        12\n",
      "13                 3        13\n",
      "14                 2         2\n",
      "15                 2         3\n",
      "16                 2         9\n",
      "17                 2        18\n",
      "18                 1        11\n"
     ]
    }
   ],
   "source": [
    "# Imprime o dataFrame:\n",
    "print(dfHora)"
   ]
  },
  {
   "cell_type": "code",
   "execution_count": 276,
   "metadata": {},
   "outputs": [],
   "source": [
    "cursor.close()\n",
    "conn.close()"
   ]
  },
  {
   "cell_type": "code",
   "execution_count": null,
   "metadata": {},
   "outputs": [],
   "source": []
  }
 ],
 "metadata": {
  "kernelspec": {
   "display_name": "Python 3",
   "language": "python",
   "name": "python3"
  },
  "language_info": {
   "codemirror_mode": {
    "name": "ipython",
    "version": 3
   },
   "file_extension": ".py",
   "mimetype": "text/x-python",
   "name": "python",
   "nbconvert_exporter": "python",
   "pygments_lexer": "ipython3",
   "version": "3.7.3"
  }
 },
 "nbformat": 4,
 "nbformat_minor": 2
}
